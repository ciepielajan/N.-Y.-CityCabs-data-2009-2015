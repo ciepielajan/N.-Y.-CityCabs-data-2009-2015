{
 "cells": [
  {
   "cell_type": "code",
   "execution_count": 2,
   "metadata": {
    "id": "2BDjsgIxtWBv"
   },
   "outputs": [],
   "source": [
    "import numpy as np\n",
    "import pandas as pd\n",
    "import os, shutil, time, h5py"
   ]
  },
  {
   "cell_type": "code",
   "execution_count": 71,
   "metadata": {
    "id": "PgdlgpvqtYfb"
   },
   "outputs": [],
   "source": [
    "root_dir = 'test/'  # Unique results directory\n",
    "filepath = os.path.join(root_dir, 'yellow_taxi_{0:03d}.csv')   \n",
    "# hdfpath = os.path.join(root_dir, 'data.h5')"
   ]
  },
  {
   "cell_type": "code",
   "execution_count": 72,
   "metadata": {
    "id": "vwnGAUAftlqY"
   },
   "outputs": [],
   "source": [
    "n_files = 10\n",
    "n_rows = 1000\n",
    "n_cols = 10"
   ]
  },
  {
   "cell_type": "code",
   "execution_count": 73,
   "metadata": {
    "id": "uToLNUvTtlxE"
   },
   "outputs": [],
   "source": [
    "# usuń folder i  zawartość folderu root_dir\n",
    "if os.path.isdir(root_dir):\n",
    "    shutil.rmtree(root_dir)\n",
    "# utowrz ponownie folder root_dir\n",
    "os.makedirs(root_dir)"
   ]
  },
  {
   "cell_type": "code",
   "execution_count": 74,
   "metadata": {
    "id": "T0Ilx4gquDTs"
   },
   "outputs": [],
   "source": [
    "# Create fake data in many csv files\n",
    "for i in range(n_files):\n",
    "    results = np.random.random((n_rows, n_cols))\n",
    "    np.savetxt(filepath.format(i), results, delimiter=',')"
   ]
  }
 ],
 "metadata": {
  "colab": {
   "name": "Untitled27.ipynb",
   "provenance": []
  },
  "kernelspec": {
   "display_name": "Python 3",
   "language": "python",
   "name": "python3"
  },
  "language_info": {
   "codemirror_mode": {
    "name": "ipython",
    "version": 3
   },
   "file_extension": ".py",
   "mimetype": "text/x-python",
   "name": "python",
   "nbconvert_exporter": "python",
   "pygments_lexer": "ipython3",
   "version": "3.9.5"
  }
 },
 "nbformat": 4,
 "nbformat_minor": 1
}
